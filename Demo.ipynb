{
 "cells": [
  {
   "cell_type": "code",
   "execution_count": 1,
   "metadata": {
    "collapsed": false
   },
   "outputs": [],
   "source": [
    "import altwidgets"
   ]
  },
  {
   "cell_type": "code",
   "execution_count": 2,
   "metadata": {
    "collapsed": false,
    "scrolled": true
   },
   "outputs": [
    {
     "data": {
      "application/javascript": [
       "(function() {\n",
       "\"use strict\";\n",
       "var awid = '941676b8-3494-4bec-ae01-f8f8ddad82b9';\n",
       "var widget_defs = [{\"value\": 5, \"max\": 10, \"kind\": \"slider\", \"name\": \"a\", \"min\": 0}, {\"value\": 7, \"max\": 15, \"kind\": \"slider\", \"name\": \"b\", \"min\": 0}];\n",
       "\n",
       "\n",
       "var state = {};\n",
       "var i = 0, wd = null;\n",
       "for (i = 0; i < widget_defs.length; i++) {\n",
       "    wd = widget_defs[i];\n",
       "    state[wd.name] = wd.value;\n",
       "}\n",
       "\n",
       "var enablers = [];\n",
       "\n",
       "var comm = null;\n",
       "\n",
       "function connect() {\n",
       "    comm = IPython.notebook.kernel.comm_manager.new_comm('altwidget',{\n",
       "        awid: awid,\n",
       "        data: state\n",
       "    });\n",
       "\n",
       "    comm.on_msg(function(msg) {\n",
       "        var data = msg.content.data.data;\n",
       "        output_area.text(data['text/plain']);\n",
       "    });\n",
       "}\n",
       "\n",
       "if (IPython.notebook.kernel) {\n",
       "    connect();\n",
       "} else {\n",
       "    require(['base/js/events'], function(events) {\n",
       "        events.on('kernel_connected.Kernel', function () {\n",
       "            connect();\n",
       "            for (var i = 0; i < enablers.length; i++) {\n",
       "                enablers[i]();\n",
       "            }\n",
       "        });\n",
       "    });\n",
       "}\n",
       "\n",
       "var widget_factories = {\n",
       "    slider: function(wd) {\n",
       "        var control = $('<div>').slider({\n",
       "            min: wd.min,\n",
       "            max: wd.max,\n",
       "            value: wd.value,\n",
       "            change: function(event, ui) {\n",
       "                update_state(wd.name, ui.value);\n",
       "            },\n",
       "            disabled: (!comm)\n",
       "        }).css({'max-width': '30em', margin: '1em'});\n",
       "        return {dom: control, enable: function() {\n",
       "            control.slider('enable');\n",
       "        }}\n",
       "    }\n",
       "};\n",
       "\n",
       "var output_area = $('<div>');\n",
       "\n",
       "function update_state(key, val) {\n",
       "    state[key] = val;\n",
       "    if (comm) {\n",
       "        comm.send({\n",
       "            kind: 'newstate',\n",
       "            data: state\n",
       "        });\n",
       "    }\n",
       "}\n",
       "\n",
       "var widget_area = $('<div>').appendTo(element);\n",
       "\n",
       "for (i = 0; i < widget_defs.length; i++) {\n",
       "    wd = widget_defs[i];\n",
       "    var w = widget_factories[wd.kind](wd);\n",
       "    widget_area.append(w.dom);\n",
       "    enablers.push(w.enable);\n",
       "}\n",
       "widget_area.append(output_area);\n",
       "\n",
       "})();\n"
      ],
      "text/plain": [
       "<IPython.core.display.Javascript object>"
      ]
     },
     "metadata": {},
     "output_type": "display_data"
    }
   ],
   "source": [
    "altwidgets.foo()"
   ]
  },
  {
   "cell_type": "code",
   "execution_count": null,
   "metadata": {
    "collapsed": true
   },
   "outputs": [],
   "source": []
  }
 ],
 "metadata": {
  "kernelspec": {
   "display_name": "Python 3",
   "language": "python",
   "name": "python3"
  },
  "language_info": {
   "codemirror_mode": {
    "name": "ipython",
    "version": 3
   },
   "file_extension": ".py",
   "mimetype": "text/x-python",
   "name": "python",
   "nbconvert_exporter": "python",
   "pygments_lexer": "ipython3",
   "version": "3.4.3"
  }
 },
 "nbformat": 4,
 "nbformat_minor": 0
}
